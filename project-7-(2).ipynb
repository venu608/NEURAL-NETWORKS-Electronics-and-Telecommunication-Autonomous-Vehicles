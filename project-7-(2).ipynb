{
 "cells": [
  {
   "cell_type": "code",
   "execution_count": 1,
   "metadata": {},
   "outputs": [
    {
     "name": "stdout",
     "output_type": "stream",
     "text": [
      "Collecting tensorflow==2.2.0Note: you may need to restart the kernel to use updated packages.\n",
      "  Downloading tensorflow-2.2.0-cp38-cp38-win_amd64.whl (459.2 MB)\n",
      "Requirement already satisfied: google-pasta>=0.1.8 in c:\\programdata\\anaconda3\\lib\\site-packages (from tensorflow==2.2.0) (0.2.0)\n",
      "Collecting tensorflow-estimator<2.3.0,>=2.2.0\n",
      "  Downloading tensorflow_estimator-2.2.0-py2.py3-none-any.whl (454 kB)\n",
      "Requirement already satisfied: termcolor>=1.1.0 in c:\\programdata\\anaconda3\\lib\\site-packages (from tensorflow==2.2.0) (1.1.0)\n",
      "Requirement already satisfied: opt-einsum>=2.3.2 in c:\\programdata\\anaconda3\\lib\\site-packages (from tensorflow==2.2.0) (3.3.0)\n",
      "Requirement already satisfied: wheel>=0.26; python_version >= \"3\" in c:\\programdata\\anaconda3\\lib\\site-packages (from tensorflow==2.2.0) (0.35.1)\n",
      "Collecting scipy==1.4.1; python_version >= \"3\"\n",
      "  Downloading scipy-1.4.1-cp38-cp38-win_amd64.whl (31.0 MB)\n",
      "Requirement already satisfied: keras-preprocessing>=1.1.0 in c:\\programdata\\anaconda3\\lib\\site-packages (from tensorflow==2.2.0) (1.1.2)\n",
      "Collecting tensorboard<2.3.0,>=2.2.0\n",
      "  Downloading tensorboard-2.2.2-py3-none-any.whl (3.0 MB)\n",
      "Requirement already satisfied: six>=1.12.0 in c:\\programdata\\anaconda3\\lib\\site-packages (from tensorflow==2.2.0) (1.15.0)\n",
      "Requirement already satisfied: absl-py>=0.7.0 in c:\\programdata\\anaconda3\\lib\\site-packages (from tensorflow==2.2.0) (0.15.0)\n",
      "\n",
      "Collecting gast==0.3.3\n",
      "  Downloading gast-0.3.3-py2.py3-none-any.whl (9.7 kB)\n",
      "Requirement already satisfied: wrapt>=1.11.1 in c:\\programdata\\anaconda3\\lib\\site-packages (from tensorflow==2.2.0) (1.12.1)\n",
      "Requirement already satisfied: numpy<2.0,>=1.16.0 in c:\\programdata\\anaconda3\\lib\\site-packages (from tensorflow==2.2.0) (1.19.2)\n",
      "Requirement already satisfied: grpcio>=1.8.6 in c:\\programdata\\anaconda3\\lib\\site-packages (from tensorflow==2.2.0) (1.41.0)\n",
      "Collecting h5py<2.11.0,>=2.10.0\n",
      "  Downloading h5py-2.10.0-cp38-cp38-win_amd64.whl (2.5 MB)\n",
      "Requirement already satisfied: astunparse==1.6.3 in c:\\programdata\\anaconda3\\lib\\site-packages (from tensorflow==2.2.0) (1.6.3)\n",
      "Requirement already satisfied: protobuf>=3.8.0 in c:\\programdata\\anaconda3\\lib\\site-packages (from tensorflow==2.2.0) (3.19.0)\n",
      "Requirement already satisfied: google-auth-oauthlib<0.5,>=0.4.1 in c:\\programdata\\anaconda3\\lib\\site-packages (from tensorboard<2.3.0,>=2.2.0->tensorflow==2.2.0) (0.4.6)\n",
      "Requirement already satisfied: setuptools>=41.0.0 in c:\\programdata\\anaconda3\\lib\\site-packages (from tensorboard<2.3.0,>=2.2.0->tensorflow==2.2.0) (50.3.1.post20201107)\n",
      "Requirement already satisfied: tensorboard-plugin-wit>=1.6.0 in c:\\programdata\\anaconda3\\lib\\site-packages (from tensorboard<2.3.0,>=2.2.0->tensorflow==2.2.0) (1.8.0)\n",
      "Requirement already satisfied: werkzeug>=0.11.15 in c:\\programdata\\anaconda3\\lib\\site-packages (from tensorboard<2.3.0,>=2.2.0->tensorflow==2.2.0) (1.0.1)\n",
      "Requirement already satisfied: requests<3,>=2.21.0 in c:\\programdata\\anaconda3\\lib\\site-packages (from tensorboard<2.3.0,>=2.2.0->tensorflow==2.2.0) (2.24.0)\n",
      "Requirement already satisfied: google-auth<2,>=1.6.3 in c:\\programdata\\anaconda3\\lib\\site-packages (from tensorboard<2.3.0,>=2.2.0->tensorflow==2.2.0) (1.25.0)\n",
      "Requirement already satisfied: markdown>=2.6.8 in c:\\programdata\\anaconda3\\lib\\site-packages (from tensorboard<2.3.0,>=2.2.0->tensorflow==2.2.0) (3.3.4)\n",
      "Requirement already satisfied: requests-oauthlib>=0.7.0 in c:\\programdata\\anaconda3\\lib\\site-packages (from google-auth-oauthlib<0.5,>=0.4.1->tensorboard<2.3.0,>=2.2.0->tensorflow==2.2.0) (1.3.0)\n",
      "Requirement already satisfied: chardet<4,>=3.0.2 in c:\\programdata\\anaconda3\\lib\\site-packages (from requests<3,>=2.21.0->tensorboard<2.3.0,>=2.2.0->tensorflow==2.2.0) (3.0.4)\n",
      "Requirement already satisfied: certifi>=2017.4.17 in c:\\programdata\\anaconda3\\lib\\site-packages (from requests<3,>=2.21.0->tensorboard<2.3.0,>=2.2.0->tensorflow==2.2.0) (2021.10.8)\n",
      "Requirement already satisfied: idna<3,>=2.5 in c:\\programdata\\anaconda3\\lib\\site-packages (from requests<3,>=2.21.0->tensorboard<2.3.0,>=2.2.0->tensorflow==2.2.0) (2.10)\n",
      "Requirement already satisfied: urllib3!=1.25.0,!=1.25.1,<1.26,>=1.21.1 in c:\\programdata\\anaconda3\\lib\\site-packages (from requests<3,>=2.21.0->tensorboard<2.3.0,>=2.2.0->tensorflow==2.2.0) (1.25.11)\n",
      "Requirement already satisfied: pyasn1-modules>=0.2.1 in c:\\programdata\\anaconda3\\lib\\site-packages (from google-auth<2,>=1.6.3->tensorboard<2.3.0,>=2.2.0->tensorflow==2.2.0) (0.2.7)\n",
      "Requirement already satisfied: rsa<5,>=3.1.4; python_version >= \"3.6\" in c:\\programdata\\anaconda3\\lib\\site-packages (from google-auth<2,>=1.6.3->tensorboard<2.3.0,>=2.2.0->tensorflow==2.2.0) (4.7.2)\n",
      "Requirement already satisfied: cachetools<5.0,>=2.0.0 in c:\\programdata\\anaconda3\\lib\\site-packages (from google-auth<2,>=1.6.3->tensorboard<2.3.0,>=2.2.0->tensorflow==2.2.0) (4.2.2)\n",
      "Requirement already satisfied: oauthlib>=3.0.0 in c:\\programdata\\anaconda3\\lib\\site-packages (from requests-oauthlib>=0.7.0->google-auth-oauthlib<0.5,>=0.4.1->tensorboard<2.3.0,>=2.2.0->tensorflow==2.2.0) (3.1.1)\n",
      "Requirement already satisfied: pyasn1<0.5.0,>=0.4.6 in c:\\programdata\\anaconda3\\lib\\site-packages (from pyasn1-modules>=0.2.1->google-auth<2,>=1.6.3->tensorboard<2.3.0,>=2.2.0->tensorflow==2.2.0) (0.4.8)\n",
      "Installing collected packages: tensorflow-estimator, scipy, tensorboard, gast, h5py, tensorflow\n",
      "  Attempting uninstall: tensorflow-estimator\n",
      "    Found existing installation: tensorflow-estimator 2.6.0\n",
      "    Uninstalling tensorflow-estimator-2.6.0:\n",
      "      Successfully uninstalled tensorflow-estimator-2.6.0\n",
      "  Attempting uninstall: scipy\n",
      "    Found existing installation: scipy 1.5.2\n",
      "    Uninstalling scipy-1.5.2:\n",
      "      Successfully uninstalled scipy-1.5.2\n",
      "  Attempting uninstall: tensorboard\n",
      "    Found existing installation: tensorboard 2.7.0\n",
      "    Uninstalling tensorboard-2.7.0:\n",
      "      Successfully uninstalled tensorboard-2.7.0\n",
      "  Attempting uninstall: gast\n",
      "    Found existing installation: gast 0.4.0\n",
      "    Uninstalling gast-0.4.0:\n",
      "      Successfully uninstalled gast-0.4.0\n",
      "  Attempting uninstall: h5py\n",
      "    Found existing installation: h5py 3.1.0\n",
      "    Uninstalling h5py-3.1.0:\n",
      "      Successfully uninstalled h5py-3.1.0\n",
      "  Attempting uninstall: tensorflow\n",
      "    Found existing installation: tensorflow 2.6.0\n",
      "    Uninstalling tensorflow-2.6.0:\n",
      "      Successfully uninstalled tensorflow-2.6.0\n",
      "Successfully installed gast-0.3.3 h5py-2.10.0 scipy-1.4.1 tensorboard-2.6.0 tensorflow-2.3.0 tensorflow-estimator-2.2.0\n"
     ]
    }
   ],
   "source": [
    "pip install tensorflow==2.2.0"
   ]
  },
  {
   "cell_type": "markdown",
   "metadata": {},
   "source": [
    "# import  the data"
   ]
  },
  {
   "cell_type": "code",
   "execution_count": 2,
   "metadata": {},
   "outputs": [],
   "source": [
    "import warnings\n",
    "import os\n",
    "import pandas as pd \n",
    "import numpy as np\n",
    "import matplotlib.pyplot as plt\n",
    "%matplotlib inline\n",
    "from matplotlib import pyplot\n",
    "import seaborn as sns\n",
    "import tensorflow "
   ]
  },
  {
   "cell_type": "code",
   "execution_count": 3,
   "metadata": {},
   "outputs": [],
   "source": [
    "import h5py\n",
    "h5f = h5py.File(\"Part - 4 - Autonomous_Vehicles_SVHN_single_grey1.h5\",'r+')"
   ]
  },
  {
   "cell_type": "code",
   "execution_count": 4,
   "metadata": {},
   "outputs": [
    {
     "name": "stdout",
     "output_type": "stream",
     "text": [
      "X_test\n",
      "X_train\n",
      "X_val\n",
      "y_test\n",
      "y_train\n",
      "y_val\n"
     ]
    }
   ],
   "source": [
    "#Names of the groups in Hdfs file\n",
    "for key in h5f.keys():\n",
    "    print(key)"
   ]
  },
  {
   "cell_type": "markdown",
   "metadata": {},
   "source": [
    "# Data pre-processing & visualisation"
   ]
  },
  {
   "cell_type": "code",
   "execution_count": 5,
   "metadata": {},
   "outputs": [],
   "source": [
    "# Load the training, test and validation set\n",
    "X_train = h5f['X_train'][:]\n",
    "y_train = h5f['y_train'][:]\n",
    "X_test = h5f['X_test'][:]\n",
    "y_test = h5f['y_test'][:]\n",
    "X_val = h5f['X_val'][:]\n",
    "y_val = h5f['y_val'][:]\n"
   ]
  },
  {
   "cell_type": "markdown",
   "metadata": {},
   "source": [
    "Checking few contents of features and labels of one example from the images"
   ]
  },
  {
   "cell_type": "code",
   "execution_count": 6,
   "metadata": {},
   "outputs": [
    {
     "data": {
      "text/plain": [
       "array([[[ 33.0704,  30.2601,  26.852 , ...,  71.4471,  58.2204,\n",
       "          42.9939],\n",
       "        [ 25.2283,  25.5533,  29.9765, ..., 113.0209, 103.3639,\n",
       "          84.2949],\n",
       "        [ 26.2775,  22.6137,  40.4763, ..., 113.3028, 121.775 ,\n",
       "         115.4228],\n",
       "        ...,\n",
       "        [ 28.5502,  36.212 ,  45.0801, ...,  24.1359,  25.0927,\n",
       "          26.0603],\n",
       "        [ 38.4352,  26.4733,  23.2717, ...,  28.1094,  29.4683,\n",
       "          30.0661],\n",
       "        [ 50.2984,  26.0773,  24.0389, ...,  49.6682,  50.853 ,\n",
       "          53.0377]]], dtype=float32)"
      ]
     },
     "execution_count": 6,
     "metadata": {},
     "output_type": "execute_result"
    }
   ],
   "source": [
    "X_train[:1]"
   ]
  },
  {
   "cell_type": "code",
   "execution_count": 7,
   "metadata": {},
   "outputs": [
    {
     "data": {
      "text/plain": [
       "array([2], dtype=uint8)"
      ]
     },
     "execution_count": 7,
     "metadata": {},
     "output_type": "execute_result"
    }
   ],
   "source": [
    "y_train[:1]"
   ]
  },
  {
   "cell_type": "code",
   "execution_count": 8,
   "metadata": {},
   "outputs": [
    {
     "data": {
      "text/plain": [
       "array([[[ 40.558 ,  46.7917,  48.9764, ..., 112.1153, 112.9904,\n",
       "         112.1646],\n",
       "        [ 39.4379,  44.2911,  47.1768, ..., 111.0122, 110.9475,\n",
       "         109.9368],\n",
       "        [ 38.4488,  43.6394,  48.7098, ..., 109.8921, 109.9414,\n",
       "         109.1048],\n",
       "        ...,\n",
       "        [ 34.9869,  35.4707,  39.6676, ..., 109.211 , 109.9074,\n",
       "         112.7346],\n",
       "        [ 35.6602,  35.5462,  40.3193, ..., 110.9998, 112.049 ,\n",
       "         114.3431],\n",
       "        [ 36.1871,  35.4214,  40.6998, ..., 110.0169, 111.2017,\n",
       "         114.1906]]], dtype=float32)"
      ]
     },
     "execution_count": 8,
     "metadata": {},
     "output_type": "execute_result"
    }
   ],
   "source": [
    "X_test[:1]"
   ]
  },
  {
   "cell_type": "code",
   "execution_count": 9,
   "metadata": {},
   "outputs": [
    {
     "data": {
      "text/plain": [
       "array([1], dtype=uint8)"
      ]
     },
     "execution_count": 9,
     "metadata": {},
     "output_type": "execute_result"
    }
   ],
   "source": [
    "y_test[:1]"
   ]
  },
  {
   "cell_type": "code",
   "execution_count": 10,
   "metadata": {},
   "outputs": [
    {
     "data": {
      "text/plain": [
       "array([[[ 44.299 ,  45.9999,  51.3306, ...,  25.2764,  27.515 ,\n",
       "          27.156 ],\n",
       "        [ 49.1351,  60.3081,  70.1222, ...,  23.7002,  25.2378,\n",
       "          24.2918],\n",
       "        [ 60.7595,  83.7141, 102.1961, ...,  24.5044,  24.9712,\n",
       "          22.8512],\n",
       "        ...,\n",
       "        [ 67.1072,  93.2464, 109.2017, ...,  26.6444,  24.6015,\n",
       "          22.9607],\n",
       "        [ 24.7569,  36.6417,  48.9071, ...,  21.9268,  21.5309,\n",
       "          21.5479],\n",
       "        [ 22.6584,  22.7724,  27.2666, ...,  21.443 ,  20.8191,\n",
       "          20.0812]]], dtype=float32)"
      ]
     },
     "execution_count": 10,
     "metadata": {},
     "output_type": "execute_result"
    }
   ],
   "source": [
    "X_val[:1]"
   ]
  },
  {
   "cell_type": "code",
   "execution_count": 11,
   "metadata": {},
   "outputs": [
    {
     "data": {
      "text/plain": [
       "array([0], dtype=uint8)"
      ]
     },
     "execution_count": 11,
     "metadata": {},
     "output_type": "execute_result"
    }
   ],
   "source": [
    "y_val[:1]"
   ]
  },
  {
   "cell_type": "code",
   "execution_count": 12,
   "metadata": {},
   "outputs": [
    {
     "data": {
      "image/png": "[encoded data removed]",
      "text/plain": [
       "<Figure size 720x72 with 10 Axes>"
      ]
     },
     "metadata": {
      "needs_background": "light"
     },
     "output_type": "display_data"
    },
    {
     "name": "stdout",
     "output_type": "stream",
     "text": [
      "label for each of the above image: [2 6 7 4 4 0 3 0 7 3]\n"
     ]
    }
   ],
   "source": [
    "# visualizing the first 10 images in the dataset and their labels\n",
    "%matplotlib inline\n",
    "import matplotlib.pyplot as plt\n",
    "plt.figure(figsize=(10, 1))\n",
    "for i in range(10):\n",
    "    plt.subplot(1, 10, i+1)\n",
    "    plt.imshow(X_train[i], cmap=\"gray\")\n",
    "    plt.axis('off')\n",
    "plt.show()\n",
    "print('label for each of the above image: %s' % (y_train[0:10]))"
   ]
  },
  {
   "cell_type": "code",
   "execution_count": 13,
   "metadata": {},
   "outputs": [
    {
     "data": {
      "text/plain": [
       "(42000, 32, 32)"
      ]
     },
     "execution_count": 13,
     "metadata": {},
     "output_type": "execute_result"
    }
   ],
   "source": [
    "X_train.shape"
   ]
  },
  {
   "cell_type": "code",
   "execution_count": 14,
   "metadata": {},
   "outputs": [
    {
     "data": {
      "text/plain": [
       "(42000,)"
      ]
     },
     "execution_count": 14,
     "metadata": {},
     "output_type": "execute_result"
    }
   ],
   "source": [
    "y_train.shape"
   ]
  },
  {
   "cell_type": "markdown",
   "metadata": {},
   "source": [
    "\n",
    "Need to reshape the X_train and X_test so that the same can be fed for model building. Currently we have a 3D tensor and we need to feed a 2D tensor into the model.\n",
    "\n",
    "We will normalize the data. We divide by 255 as this is a grayscale image and can take values from 0-255"
   ]
  },
  {
   "cell_type": "code",
   "execution_count": 15,
   "metadata": {},
   "outputs": [
    {
     "name": "stdout",
     "output_type": "stream",
     "text": [
      "Resized Training set (42000, 1024, 1) (42000,)\n",
      "Resized Test set (18000, 1024, 1) (18000,)\n"
     ]
    }
   ],
   "source": [
    "X_train = X_train.reshape(X_train.shape[0], 1024, 1)\n",
    "X_test = X_test.reshape(X_test.shape[0], 1024, 1)\n",
    "\n",
    "# # normalize inputs from 0-255 to 0-1\n",
    "X_train = X_train / 255.0\n",
    "X_test = X_test / 255.0\n",
    "\n",
    "print('Resized Training set', X_train.shape, y_train.shape)\n",
    "print('Resized Test set', X_test.shape, y_test.shape)"
   ]
  },
  {
   "cell_type": "markdown",
   "metadata": {},
   "source": [
    "\n",
    "Encoding the target variables. We need to one hot encode the labels for the model to understand the labels better. We will be using categorical cross entropy as our loss function and for this purpose we need our labels to be in one hot encoded format."
   ]
  },
  {
   "cell_type": "code",
   "execution_count": 16,
   "metadata": {},
   "outputs": [
    {
     "name": "stdout",
     "output_type": "stream",
     "text": [
      "The number of classes in this dataset are: 10\n"
     ]
    }
   ],
   "source": [
    "from tensorflow.keras.utils import to_categorical\n",
    "# one hot encode outputs\n",
    "y_train = to_categorical(y_train)\n",
    "y_test = to_categorical(y_test)\n",
    "\n",
    "# no.of classes\n",
    "num_classes = y_test.shape[1] \n",
    "print(\"The number of classes in this dataset are:\",num_classes)"
   ]
  },
  {
   "cell_type": "markdown",
   "metadata": {},
   "source": [
    "# Designing, training, tuning and testing a neural network image classifier."
   ]
  },
  {
   "cell_type": "markdown",
   "metadata": {},
   "source": [
    "#### Building the neural network model, fitting the training data, testing it and providing model summary."
   ]
  },
  {
   "cell_type": "code",
   "execution_count": 17,
   "metadata": {},
   "outputs": [],
   "source": [
    "# define model\n",
    "\n",
    "from tensorflow.keras import optimizers\n",
    "from tensorflow.keras.models import Sequential\n",
    "from tensorflow.keras.layers import Dense, Flatten\n",
    "\n",
    "def nn_model():\n",
    "    # create model\n",
    "    model = Sequential()  \n",
    "    model.add(Flatten())\n",
    "    model.add(Dense(256, activation='relu')) ###Multiple Dense units with Relu activation\n",
    "    model.add(Dense(64, activation='relu'))\n",
    "    model.add(Dense(64, activation='relu'))\n",
    "    model.add(Dense(32, activation='relu'))\n",
    "    model.add(Dense(num_classes, activation='softmax'))\n",
    "    return model"
   ]
  },
  {
   "cell_type": "markdown",
   "metadata": {},
   "source": [
    "creating an object of our model"
   ]
  },
  {
   "cell_type": "code",
   "execution_count": 19,
   "metadata": {},
   "outputs": [],
   "source": [
    "# build the model\n",
    "model = nn_model()"
   ]
  },
  {
   "cell_type": "code",
   "execution_count": 20,
   "metadata": {},
   "outputs": [],
   "source": [
    "# Compile model\n",
    "sgd = optimizers.Adam(lr=1e-3)\n",
    "\n",
    "### Loss function = Categorical cross entropy\n",
    "model.compile(loss='categorical_crossentropy', optimizer=sgd, metrics=['accuracy'])"
   ]
  },
  {
   "cell_type": "markdown",
   "metadata": {},
   "source": [
    "Fitting the model on the training dataset along with it's equivalent one hot encoded labels"
   ]
  },
  {
   "cell_type": "code",
   "execution_count": 21,
   "metadata": {},
   "outputs": [
    {
     "name": "stdout",
     "output_type": "stream",
     "text": [
      "Epoch 1/100\n",
      "140/140 - 2s - loss: 2.2462 - accuracy: 0.1456 - val_loss: 2.0608 - val_accuracy: 0.2337\n",
      "Epoch 2/100\n",
      "140/140 - 2s - loss: 1.8330 - accuracy: 0.3398 - val_loss: 1.6336 - val_accuracy: 0.4171\n",
      "Epoch 3/100\n",
      "140/140 - 2s - loss: 1.5856 - accuracy: 0.4502 - val_loss: 1.4940 - val_accuracy: 0.4877\n",
      "Epoch 4/100\n",
      "140/140 - 2s - loss: 1.4319 - accuracy: 0.5191 - val_loss: 1.3515 - val_accuracy: 0.5492\n",
      "Epoch 5/100\n",
      "140/140 - 2s - loss: 1.3302 - accuracy: 0.5619 - val_loss: 1.3222 - val_accuracy: 0.5590\n",
      "Epoch 6/100\n",
      "140/140 - 2s - loss: 1.2491 - accuracy: 0.5941 - val_loss: 1.2216 - val_accuracy: 0.6071\n",
      "Epoch 7/100\n",
      "140/140 - 2s - loss: 1.1951 - accuracy: 0.6168 - val_loss: 1.1648 - val_accuracy: 0.6308\n",
      "Epoch 8/100\n",
      "140/140 - 2s - loss: 1.1642 - accuracy: 0.6290 - val_loss: 1.1960 - val_accuracy: 0.6102\n",
      "Epoch 9/100\n",
      "140/140 - 2s - loss: 1.1425 - accuracy: 0.6382 - val_loss: 1.1350 - val_accuracy: 0.6391\n",
      "Epoch 10/100\n",
      "140/140 - 2s - loss: 1.0856 - accuracy: 0.6576 - val_loss: 1.0792 - val_accuracy: 0.6633\n",
      "Epoch 11/100\n",
      "140/140 - 2s - loss: 1.0563 - accuracy: 0.6695 - val_loss: 1.0813 - val_accuracy: 0.6652\n",
      "Epoch 12/100\n",
      "140/140 - 2s - loss: 1.0407 - accuracy: 0.6759 - val_loss: 1.0457 - val_accuracy: 0.6771\n",
      "Epoch 13/100\n",
      "140/140 - 2s - loss: 1.0080 - accuracy: 0.6899 - val_loss: 1.0191 - val_accuracy: 0.6872\n",
      "Epoch 14/100\n",
      "140/140 - 2s - loss: 0.9901 - accuracy: 0.6935 - val_loss: 1.0509 - val_accuracy: 0.6754\n",
      "Epoch 15/100\n",
      "140/140 - 2s - loss: 0.9829 - accuracy: 0.6953 - val_loss: 0.9692 - val_accuracy: 0.7054\n",
      "Epoch 16/100\n",
      "140/140 - 2s - loss: 0.9256 - accuracy: 0.7155 - val_loss: 0.9529 - val_accuracy: 0.7085\n",
      "Epoch 17/100\n",
      "140/140 - 2s - loss: 0.9151 - accuracy: 0.7175 - val_loss: 0.9168 - val_accuracy: 0.7231\n",
      "Epoch 18/100\n",
      "140/140 - 2s - loss: 0.8824 - accuracy: 0.7288 - val_loss: 0.9117 - val_accuracy: 0.7257\n",
      "Epoch 19/100\n",
      "140/140 - 2s - loss: 0.8661 - accuracy: 0.7337 - val_loss: 0.8724 - val_accuracy: 0.7374\n",
      "Epoch 20/100\n",
      "140/140 - 2s - loss: 0.8359 - accuracy: 0.7448 - val_loss: 0.8695 - val_accuracy: 0.7374\n",
      "Epoch 21/100\n",
      "140/140 - 2s - loss: 0.8073 - accuracy: 0.7531 - val_loss: 0.8683 - val_accuracy: 0.7393\n",
      "Epoch 22/100\n",
      "140/140 - 2s - loss: 0.7951 - accuracy: 0.7550 - val_loss: 0.8587 - val_accuracy: 0.7444\n",
      "Epoch 23/100\n",
      "140/140 - 2s - loss: 0.7780 - accuracy: 0.7621 - val_loss: 0.8490 - val_accuracy: 0.7437\n",
      "Epoch 24/100\n",
      "140/140 - 2s - loss: 0.7754 - accuracy: 0.7617 - val_loss: 0.8065 - val_accuracy: 0.7589\n",
      "Epoch 25/100\n",
      "140/140 - 2s - loss: 0.7437 - accuracy: 0.7724 - val_loss: 0.8288 - val_accuracy: 0.7512\n",
      "Epoch 26/100\n",
      "140/140 - 2s - loss: 0.7411 - accuracy: 0.7710 - val_loss: 0.7710 - val_accuracy: 0.7722\n",
      "Epoch 27/100\n",
      "140/140 - 2s - loss: 0.7224 - accuracy: 0.7775 - val_loss: 0.7838 - val_accuracy: 0.7668\n",
      "Epoch 28/100\n",
      "140/140 - 2s - loss: 0.7338 - accuracy: 0.7737 - val_loss: 0.7663 - val_accuracy: 0.7715\n",
      "Epoch 29/100\n",
      "140/140 - 2s - loss: 0.7095 - accuracy: 0.7822 - val_loss: 0.7606 - val_accuracy: 0.7748\n",
      "Epoch 30/100\n",
      "140/140 - 2s - loss: 0.6855 - accuracy: 0.7896 - val_loss: 0.7767 - val_accuracy: 0.7668\n",
      "Epoch 31/100\n",
      "140/140 - 2s - loss: 0.6891 - accuracy: 0.7871 - val_loss: 0.7885 - val_accuracy: 0.7624\n",
      "Epoch 32/100\n",
      "140/140 - 2s - loss: 0.6756 - accuracy: 0.7918 - val_loss: 0.7554 - val_accuracy: 0.7751\n",
      "Epoch 33/100\n",
      "140/140 - 2s - loss: 0.6838 - accuracy: 0.7887 - val_loss: 0.7499 - val_accuracy: 0.7751\n",
      "Epoch 34/100\n",
      "140/140 - 2s - loss: 0.6591 - accuracy: 0.7974 - val_loss: 0.7612 - val_accuracy: 0.7729\n",
      "Epoch 35/100\n",
      "140/140 - 2s - loss: 0.6507 - accuracy: 0.8010 - val_loss: 0.7435 - val_accuracy: 0.7799\n",
      "Epoch 36/100\n",
      "140/140 - 2s - loss: 0.6590 - accuracy: 0.7969 - val_loss: 0.7408 - val_accuracy: 0.7808\n",
      "Epoch 37/100\n",
      "140/140 - 2s - loss: 0.6447 - accuracy: 0.8015 - val_loss: 0.7399 - val_accuracy: 0.7833\n",
      "Epoch 38/100\n",
      "140/140 - 2s - loss: 0.6357 - accuracy: 0.8042 - val_loss: 0.7317 - val_accuracy: 0.7821\n",
      "Epoch 39/100\n",
      "140/140 - 2s - loss: 0.6348 - accuracy: 0.8046 - val_loss: 0.7498 - val_accuracy: 0.7751\n",
      "Epoch 40/100\n",
      "140/140 - 2s - loss: 0.6362 - accuracy: 0.8037 - val_loss: 0.7147 - val_accuracy: 0.7922\n",
      "Epoch 41/100\n",
      "140/140 - 2s - loss: 0.6243 - accuracy: 0.8088 - val_loss: 0.7292 - val_accuracy: 0.7858\n",
      "Epoch 42/100\n",
      "140/140 - 2s - loss: 0.6103 - accuracy: 0.8133 - val_loss: 0.7257 - val_accuracy: 0.7858\n",
      "Epoch 43/100\n",
      "140/140 - 2s - loss: 0.5983 - accuracy: 0.8156 - val_loss: 0.7150 - val_accuracy: 0.7872\n",
      "Epoch 44/100\n",
      "140/140 - 2s - loss: 0.6039 - accuracy: 0.8126 - val_loss: 0.7029 - val_accuracy: 0.7897\n",
      "Epoch 45/100\n",
      "140/140 - 2s - loss: 0.5915 - accuracy: 0.8175 - val_loss: 0.7150 - val_accuracy: 0.7906\n",
      "Epoch 46/100\n",
      "140/140 - 2s - loss: 0.5907 - accuracy: 0.8179 - val_loss: 0.7106 - val_accuracy: 0.7921\n",
      "Epoch 47/100\n",
      "140/140 - 2s - loss: 0.5898 - accuracy: 0.8165 - val_loss: 0.7005 - val_accuracy: 0.7929\n",
      "Epoch 48/100\n",
      "140/140 - 2s - loss: 0.5801 - accuracy: 0.8210 - val_loss: 0.6894 - val_accuracy: 0.7952\n",
      "Epoch 49/100\n",
      "140/140 - 2s - loss: 0.5735 - accuracy: 0.8220 - val_loss: 0.6918 - val_accuracy: 0.7966\n",
      "Epoch 50/100\n",
      "140/140 - 2s - loss: 0.5633 - accuracy: 0.8273 - val_loss: 0.6782 - val_accuracy: 0.7994\n",
      "Epoch 51/100\n",
      "140/140 - 2s - loss: 0.5670 - accuracy: 0.8262 - val_loss: 0.6810 - val_accuracy: 0.7987\n",
      "Epoch 52/100\n",
      "140/140 - 2s - loss: 0.5648 - accuracy: 0.8247 - val_loss: 0.7137 - val_accuracy: 0.7905\n",
      "Epoch 53/100\n",
      "140/140 - 2s - loss: 0.5524 - accuracy: 0.8318 - val_loss: 0.6756 - val_accuracy: 0.8019\n",
      "Epoch 54/100\n",
      "140/140 - 2s - loss: 0.5499 - accuracy: 0.8307 - val_loss: 0.6793 - val_accuracy: 0.7986\n",
      "Epoch 55/100\n",
      "140/140 - 2s - loss: 0.5430 - accuracy: 0.8320 - val_loss: 0.7238 - val_accuracy: 0.7891\n",
      "Epoch 56/100\n",
      "140/140 - 2s - loss: 0.5500 - accuracy: 0.8289 - val_loss: 0.6719 - val_accuracy: 0.8051\n",
      "Epoch 57/100\n",
      "140/140 - 2s - loss: 0.5303 - accuracy: 0.8366 - val_loss: 0.6895 - val_accuracy: 0.7974\n",
      "Epoch 58/100\n",
      "140/140 - 2s - loss: 0.5393 - accuracy: 0.8319 - val_loss: 0.6901 - val_accuracy: 0.7965\n",
      "Epoch 59/100\n",
      "140/140 - 2s - loss: 0.5251 - accuracy: 0.8375 - val_loss: 0.7163 - val_accuracy: 0.7901\n",
      "Epoch 60/100\n",
      "140/140 - 2s - loss: 0.5292 - accuracy: 0.8360 - val_loss: 0.6695 - val_accuracy: 0.8037\n",
      "Epoch 61/100\n",
      "140/140 - 2s - loss: 0.5228 - accuracy: 0.8364 - val_loss: 0.6724 - val_accuracy: 0.8027\n",
      "Epoch 62/100\n",
      "140/140 - 2s - loss: 0.5164 - accuracy: 0.8387 - val_loss: 0.6636 - val_accuracy: 0.8058\n",
      "Epoch 63/100\n",
      "140/140 - 2s - loss: 0.5106 - accuracy: 0.8414 - val_loss: 0.6751 - val_accuracy: 0.8020\n",
      "Epoch 64/100\n",
      "140/140 - 2s - loss: 0.5178 - accuracy: 0.8388 - val_loss: 0.7000 - val_accuracy: 0.7932\n",
      "Epoch 65/100\n",
      "140/140 - 2s - loss: 0.5091 - accuracy: 0.8396 - val_loss: 0.6740 - val_accuracy: 0.8023\n",
      "Epoch 66/100\n",
      "140/140 - 2s - loss: 0.4939 - accuracy: 0.8477 - val_loss: 0.6692 - val_accuracy: 0.8073\n",
      "Epoch 67/100\n",
      "140/140 - 2s - loss: 0.4867 - accuracy: 0.8479 - val_loss: 0.6673 - val_accuracy: 0.8056\n",
      "Epoch 68/100\n",
      "140/140 - 2s - loss: 0.4897 - accuracy: 0.8477 - val_loss: 0.6714 - val_accuracy: 0.7997\n",
      "Epoch 69/100\n",
      "140/140 - 2s - loss: 0.4857 - accuracy: 0.8490 - val_loss: 0.6518 - val_accuracy: 0.8127\n",
      "Epoch 70/100\n",
      "140/140 - 2s - loss: 0.4909 - accuracy: 0.8475 - val_loss: 0.6827 - val_accuracy: 0.8040\n",
      "Epoch 71/100\n",
      "140/140 - 2s - loss: 0.4882 - accuracy: 0.8473 - val_loss: 0.7012 - val_accuracy: 0.7984\n",
      "Epoch 72/100\n",
      "140/140 - 2s - loss: 0.4819 - accuracy: 0.8489 - val_loss: 0.6881 - val_accuracy: 0.8013\n",
      "Epoch 73/100\n",
      "140/140 - 2s - loss: 0.4755 - accuracy: 0.8519 - val_loss: 0.6691 - val_accuracy: 0.8094\n",
      "Epoch 74/100\n",
      "140/140 - 2s - loss: 0.4761 - accuracy: 0.8514 - val_loss: 0.7227 - val_accuracy: 0.7973\n",
      "Epoch 75/100\n",
      "140/140 - 2s - loss: 0.4657 - accuracy: 0.8549 - val_loss: 0.7801 - val_accuracy: 0.7756\n",
      "Epoch 76/100\n",
      "140/140 - 2s - loss: 0.4740 - accuracy: 0.8522 - val_loss: 0.6761 - val_accuracy: 0.8028\n",
      "Epoch 77/100\n",
      "140/140 - 2s - loss: 0.4710 - accuracy: 0.8528 - val_loss: 0.6666 - val_accuracy: 0.8068\n",
      "Epoch 78/100\n",
      "140/140 - 2s - loss: 0.4588 - accuracy: 0.8547 - val_loss: 0.6825 - val_accuracy: 0.8069\n",
      "Epoch 79/100\n",
      "140/140 - 2s - loss: 0.4586 - accuracy: 0.8561 - val_loss: 0.6762 - val_accuracy: 0.8083\n",
      "Epoch 80/100\n",
      "140/140 - 2s - loss: 0.4589 - accuracy: 0.8556 - val_loss: 0.6697 - val_accuracy: 0.8072\n",
      "Epoch 81/100\n",
      "140/140 - 2s - loss: 0.4566 - accuracy: 0.8567 - val_loss: 0.6893 - val_accuracy: 0.8051\n",
      "Epoch 82/100\n",
      "140/140 - 2s - loss: 0.4517 - accuracy: 0.8576 - val_loss: 0.6937 - val_accuracy: 0.7999\n",
      "Epoch 83/100\n",
      "140/140 - 2s - loss: 0.4654 - accuracy: 0.8518 - val_loss: 0.6375 - val_accuracy: 0.8204\n",
      "Epoch 84/100\n",
      "140/140 - 2s - loss: 0.4455 - accuracy: 0.8599 - val_loss: 0.6703 - val_accuracy: 0.8096\n",
      "Epoch 85/100\n",
      "140/140 - 2s - loss: 0.4346 - accuracy: 0.8643 - val_loss: 0.6854 - val_accuracy: 0.8076\n",
      "Epoch 86/100\n",
      "140/140 - 2s - loss: 0.4441 - accuracy: 0.8601 - val_loss: 0.6760 - val_accuracy: 0.8123\n",
      "Epoch 87/100\n",
      "140/140 - 2s - loss: 0.4371 - accuracy: 0.8630 - val_loss: 0.6733 - val_accuracy: 0.8099\n",
      "Epoch 88/100\n",
      "140/140 - 2s - loss: 0.4313 - accuracy: 0.8656 - val_loss: 0.6757 - val_accuracy: 0.8109\n",
      "Epoch 89/100\n",
      "140/140 - 2s - loss: 0.4316 - accuracy: 0.8632 - val_loss: 0.6654 - val_accuracy: 0.8127\n",
      "Epoch 90/100\n",
      "140/140 - 2s - loss: 0.4319 - accuracy: 0.8645 - val_loss: 0.6850 - val_accuracy: 0.8067\n",
      "Epoch 91/100\n",
      "140/140 - 2s - loss: 0.4462 - accuracy: 0.8571 - val_loss: 0.6790 - val_accuracy: 0.8112\n",
      "Epoch 92/100\n",
      "140/140 - 2s - loss: 0.4357 - accuracy: 0.8620 - val_loss: 0.6700 - val_accuracy: 0.8124\n",
      "Epoch 93/100\n",
      "140/140 - 2s - loss: 0.4275 - accuracy: 0.8659 - val_loss: 0.7219 - val_accuracy: 0.7991\n",
      "Epoch 94/100\n",
      "140/140 - 2s - loss: 0.4213 - accuracy: 0.8668 - val_loss: 0.6685 - val_accuracy: 0.8139\n",
      "Epoch 95/100\n",
      "140/140 - 2s - loss: 0.4210 - accuracy: 0.8685 - val_loss: 0.6590 - val_accuracy: 0.8153\n",
      "Epoch 96/100\n",
      "140/140 - 2s - loss: 0.4177 - accuracy: 0.8672 - val_loss: 0.7375 - val_accuracy: 0.7981\n",
      "Epoch 97/100\n",
      "140/140 - 2s - loss: 0.4124 - accuracy: 0.8706 - val_loss: 0.6933 - val_accuracy: 0.8088\n",
      "Epoch 98/100\n",
      "140/140 - 2s - loss: 0.4260 - accuracy: 0.8654 - val_loss: 0.6948 - val_accuracy: 0.8059\n",
      "Epoch 99/100\n",
      "140/140 - 2s - loss: 0.4162 - accuracy: 0.8675 - val_loss: 0.6663 - val_accuracy: 0.8130\n",
      "Epoch 100/100\n",
      "140/140 - 2s - loss: 0.4023 - accuracy: 0.8729 - val_loss: 0.7011 - val_accuracy: 0.8086\n"
     ]
    }
   ],
   "source": [
    "# Fitting the model\n",
    "training_history = model.fit(X_train, y_train, validation_data=(X_test, y_test), epochs=100, batch_size=300, verbose=2)"
   ]
  },
  {
   "cell_type": "markdown",
   "metadata": {},
   "source": [
    "# Plotting the training loss, validation loss vs number of epochs and training accuracy,"
   ]
  },
  {
   "cell_type": "markdown",
   "metadata": {},
   "source": [
    "### validation accuracy vs number of epochs plot"
   ]
  },
  {
   "cell_type": "code",
   "execution_count": 22,
   "metadata": {},
   "outputs": [
    {
     "name": "stdout",
     "output_type": "stream",
     "text": [
      "Loss: 0.701102077960968\n",
      "Accuracy: 0.8086110949516296\n"
     ]
    }
   ],
   "source": [
    "# Final evaluation of the model\n",
    "scores = model.evaluate(X_test, y_test, verbose=0)\n",
    "print(\"Loss:\", scores[0])\n",
    "print(\"Accuracy:\", scores[1])"
   ]
  },
  {
   "cell_type": "code",
   "execution_count": 23,
   "metadata": {},
   "outputs": [
    {
     "data": {
      "text/plain": [
       "Text(0.5, 1.0, 'Training and validation loss')"
      ]
     },
     "execution_count": 23,
     "metadata": {},
     "output_type": "execute_result"
    },
    {
     "data": {
      "image/png": "[encoded data removed]",
      "text/plain": [
       "<Figure size 432x288 with 1 Axes>"
      ]
     },
     "metadata": {
      "needs_background": "light"
     },
     "output_type": "display_data"
    },
    {
     "data": {
      "image/png": "[encoded data removed]",
      "text/plain": [
       "<Figure size 432x288 with 1 Axes>"
      ]
     },
     "metadata": {
      "needs_background": "light"
     },
     "output_type": "display_data"
    }
   ],
   "source": [
    "accuracy      = training_history.history['accuracy']\n",
    "val_accuracy  = training_history.history['val_accuracy']\n",
    "loss     = training_history.history['loss']\n",
    "val_loss = training_history.history['val_loss']\n",
    "\n",
    "epochs   = range(len(accuracy)) # Get number of epochs\n",
    "\n",
    "plt.plot  ( epochs, accuracy, label = 'training accuracy' )\n",
    "plt.plot  ( epochs, val_accuracy, label = 'validation accuracy' )\n",
    "plt.title ('Training and validation accuracy')\n",
    "plt.legend(loc = 'lower right')\n",
    "plt.figure()\n",
    "\n",
    "plt.plot  ( epochs, loss, label = 'training loss' )\n",
    "plt.plot  ( epochs, val_loss, label = 'validation loss' )\n",
    "plt.legend(loc = 'upper right')\n",
    "plt.title ('Training and validation loss'   )"
   ]
  },
  {
   "cell_type": "markdown",
   "metadata": {},
   "source": [
    "There are around 10 classes in the dataset which represent digits from 0-9."
   ]
  },
  {
   "cell_type": "markdown",
   "metadata": {},
   "source": [
    "Also we notice that after a certain point the model begins to overfit on our dataset as is clear from the plots above where the validation loss begins to increase after certain point and validation accuracy begins to decrease."
   ]
  },
  {
   "cell_type": "markdown",
   "metadata": {},
   "source": [
    "We tried training a Neural Network with dense hidden layers of different number of units and are able to achieve a final test accuracy of 80.86 %."
   ]
  },
  {
   "cell_type": "code",
   "execution_count": null,
   "metadata": {},
   "outputs": [],
   "source": []
  }
 ],
 "metadata": {
  "kernelspec": {
   "display_name": "Python 3",
   "language": "python",
   "name": "python3"
  },
  "language_info": {
   "codemirror_mode": {
    "name": "ipython",
    "version": 3
   },
   "file_extension": ".py",
   "mimetype": "text/x-python",
   "name": "python",
   "nbconvert_exporter": "python",
   "pygments_lexer": "ipython3",
   "version": "3.8.5"
  }
 },
 "nbformat": 4,
 "nbformat_minor": 4
}
